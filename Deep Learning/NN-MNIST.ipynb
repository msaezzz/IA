{
 "cells": [
  {
   "cell_type": "markdown",
   "id": "46faf200-8410-49e2-9340-b4f0c47b6485",
   "metadata": {},
   "source": [
    "# Exercici NN "
   ]
  },
  {
   "cell_type": "code",
   "execution_count": 53,
   "id": "18ece36e-7b6b-433d-ac77-16dd28089d40",
   "metadata": {},
   "outputs": [],
   "source": [
    "import numpy as np\n",
    "import idx2numpy"
   ]
  },
  {
   "cell_type": "markdown",
   "id": "8c64890d-a490-4d0f-beb3-5f1e6f7ab7be",
   "metadata": {},
   "source": [
    "## Linear Layer\n",
    "Forward y backward\n"
   ]
  },
  {
   "cell_type": "code",
   "execution_count": 49,
   "id": "658d08d6-474b-4c6d-95fd-5b2c57b71fd0",
   "metadata": {},
   "outputs": [],
   "source": [
    "class linear_layer():\n",
    "    def __init__(self, input_dimensions, output_dimensions):\n",
    "        self.W=2*np.random.rand(input_dimensions, output_dimensions)-1\n",
    "        self.B=np.random.rand(1, output_dimensions)\n",
    " \n",
    "    def forward(self,x):\n",
    "        self.x = x\n",
    "        return x @ self.W+self.B\n",
    " \n",
    "    def backward(self,error):\n",
    "        self.dW= self.x.T @ error \n",
    "        self.dB= error.sum(axis=0)\n",
    "        return error @ self.W.T\n",
    " \n",
    "    def update_parameters(self, lr):\n",
    "        self.W=self.W - lr * self.dW\n",
    "        self.B= self.B- lr * self.dB\n",
    "        print(self.W)\n",
    " "
   ]
  },
  {
   "cell_type": "code",
   "execution_count": 75,
   "id": "aa2c6fcd",
   "metadata": {},
   "outputs": [
    {
     "name": "stdout",
     "output_type": "stream",
     "text": [
      "[[ 0.78916236 -0.80319467]\n",
      " [ 0.22981648 -0.526451  ]\n",
      " [ 0.78627956  0.78387721]\n",
      " [ 0.05834171 -0.96888867]\n",
      " [-0.86895986 -0.27437366]]\n",
      "W [[ 0.78916236 -0.80319467]\n",
      " [ 0.22981648 -0.526451  ]\n",
      " [ 0.78627956  0.78387721]\n",
      " [ 0.05834171 -0.96888867]\n",
      " [-0.86895986 -0.27437366]]\n",
      "[[ 0.78916236 -0.80319467]\n",
      " [ 0.22981648 -0.526451  ]\n",
      " [ 0.78627956  0.78387721]\n",
      " [ 0.05834171 -0.96888867]\n",
      " [-0.86895986 -0.27437366]]\n",
      "dW: [[ 0.79633006  0.42310934]\n",
      " [ 0.26388718 -1.35265955]\n",
      " [ 0.53244288  1.77576889]\n",
      " [ 0.79633006  0.42310934]\n",
      " [ 0.          0.        ]]\n",
      "[[ 0.76527246 -0.81588795]\n",
      " [ 0.22189987 -0.48587121]\n",
      " [ 0.77030627  0.73060415]\n",
      " [ 0.03445181 -0.98158195]\n",
      " [-0.86895986 -0.27437366]]\n",
      "[[ 0.76527246 -0.81588795]\n",
      " [ 0.22189987 -0.48587121]\n",
      " [ 0.77030627  0.73060415]\n",
      " [ 0.03445181 -0.98158195]\n",
      " [-0.86895986 -0.27437366]]\n"
     ]
    }
   ],
   "source": [
    "nn1 = linear_layer(5,2)\n",
    "print(\"W\",nn1.W)\n",
    "x = np.array([[1,0,1,1,0],[1,1,0,1,0]])\n",
    "\n",
    "yp = nn1.forward(x)\n",
    "error = np.array([[ 0.53244288 , 1.77576889],[ 0.26388718, -1.35265955]])\n",
    "\n",
    "nn1.backward(error)\n",
    "print(nn1.W)\n",
    "print(\"dW:\",nn1.dW)\n",
    "\n",
    "nn1.update_parameters(0.03)\n",
    "print(nn1.W)"
   ]
  },
  {
   "cell_type": "code",
   "execution_count": 43,
   "id": "4f6589d8-7bf5-407e-888a-4f6ece69e5ca",
   "metadata": {},
   "outputs": [],
   "source": [
    "class Relu_layer():\n",
    "    def __init__(self):\n",
    "        pass\n",
    " \n",
    "    def forward(self,x):\n",
    "        self.Z=np.maximum(0,x)\n",
    "        return self.Z\n",
    " \n",
    "    def backward(self,error):\n",
    "        return error * (self.Z > 0)\n",
    " \n",
    "    def update_parameters(self, lr):\n",
    "        return True"
   ]
  },
  {
   "cell_type": "markdown",
   "id": "1e933e80",
   "metadata": {},
   "source": [
    "# Input\n"
   ]
  },
  {
   "cell_type": "code",
   "execution_count": 44,
   "id": "b4f2ea13",
   "metadata": {},
   "outputs": [],
   "source": [
    "class input_layer():\n",
    "    def __init__(self, input_size):\n",
    "        self.input_size = input_size\n",
    " \n",
    " \n",
    "    def forward(self,x):\n",
    "        return x\n",
    " \n",
    "    def backward(self,error):\n",
    "        return error\n",
    " \n",
    "    def update_parameters(self, lr):\n",
    "        return True"
   ]
  },
  {
   "cell_type": "markdown",
   "id": "2d07a3d4-bc90-4932-b032-d637abd30137",
   "metadata": {},
   "source": [
    "## Model design"
   ]
  },
  {
   "cell_type": "code",
   "execution_count": 46,
   "id": "c993bfda-5aef-493e-886e-fd83dfa57bcb",
   "metadata": {},
   "outputs": [
    {
     "name": "stdout",
     "output_type": "stream",
     "text": [
      "[[-0.56560238 -0.82656385  0.0932422  -1.28058879]\n",
      " [ 0.16260684  2.17556036  0.38380645  0.54935592]\n",
      " [ 0.52921886  0.31668034  0.68037842  0.55816561]\n",
      " [ 0.7925816   1.57272011  0.65457367 -0.85226501]]\n",
      "[[-0.71260777  0.72842742  0.11028761 -0.09821724]\n",
      " [-1.58721355 -0.30492143 -0.28759269 -0.24705305]\n",
      " [ 0.23647216  0.41030074  0.44155562 -0.57007244]\n",
      " [ 0.28942902 -0.6343368   0.86004849  0.9424777 ]]\n",
      "[[-4.91085498 -2.92559166  1.64418623]\n",
      " [-5.74644723 -4.64883802  1.40370214]\n",
      " [ 0.16697943  0.28542747  0.32417383]\n",
      " [ 0.72713025 -0.68612    -0.64293531]]\n"
     ]
    }
   ],
   "source": [
    "class NN_model():\n",
    "    def __init__(self):\n",
    "        self.sequential = [input_layer(4),\n",
    "                            linear_layer(4,4),\n",
    "                            Relu_layer(),\n",
    "                            linear_layer(4,4),\n",
    "                            Relu_layer(),\n",
    "                            linear_layer(4,3)]\n",
    "\n",
    "    def forward(self, x):\n",
    "        for layer in self.sequential:\n",
    "            y = layer.forward(x)\n",
    "            x = y\n",
    "        return y\n",
    "\n",
    "    def backward(self, error):\n",
    "        for layer in np.flip(self.sequential):\n",
    "            y = layer.backward(error)\n",
    "            error = y\n",
    "        return error \n",
    "\n",
    "    def update_parameters(self, learning_rate=0.03):\n",
    "        for layer in self.sequential:\n",
    "            layer.update_parameters(learning_rate)\n",
    "\n",
    "model = NN_model()\n",
    "x = np.array([[1,-10,1,-8],[2,2,0,0]])\n",
    "\n",
    "y_pred = model.forward(x)\n",
    "\n",
    "y_real = np.array([[1,-10,0],[1,0,1]])\n",
    "\n",
    "error = 2 * (y_pred - y_real)\n",
    "\n",
    "model.backward(error)\n",
    "model.update_parameters(0.03)"
   ]
  },
  {
   "cell_type": "markdown",
   "id": "a3228576",
   "metadata": {},
   "source": [
    "## Paso a paso "
   ]
  },
  {
   "cell_type": "code",
   "execution_count": 63,
   "id": "3646b707",
   "metadata": {},
   "outputs": [
    {
     "name": "stdout",
     "output_type": "stream",
     "text": [
      "[[-0.93224254 -0.29471037]\n",
      " [ 0.41563523  0.73358615]\n",
      " [ 0.1403662   0.88875886]\n",
      " [ 0.12749836  0.32891316]\n",
      " [-0.5230961  -0.37105466]]\n",
      "[[-0.9078399  -0.56180373]\n",
      " [-0.94310149 -0.52978563]]\n",
      "[[-1.02723573 -0.39339812]\n",
      " [ 0.42413841  0.73748118]\n",
      " [ 0.03686984  0.78617607]\n",
      " [ 0.03250518  0.23022541]\n",
      " [-0.5230961  -0.37105466]]\n",
      "[[-0.93423247 -0.58701846]\n",
      " [-0.82585891 -0.51566113]]\n",
      "[[-1.00330103 -0.37239479]\n",
      " [ 0.48615163  0.79193694]\n",
      " [-0.00120868  0.75272365]\n",
      " [ 0.05643988  0.25122875]\n",
      " [-0.5230961  -0.37105466]]\n",
      "[[-0.93602621 -0.59387583]\n",
      " [-0.82270199 -0.54781216]]\n"
     ]
    }
   ],
   "source": [
    "x = np.array([[1,0,1,1,0],[1,1,0,1,0]])\n",
    "yr = np.array([[ 0.53244288 , 1.77576889],[ 0.26388718, -1.35265955]])\n",
    "\n",
    "seq = [linear_layer(5,2),linear_layer(2,2)]\n",
    "\n",
    "y1 = seq[0].forward(x)\n",
    "y2 = seq[1].forward(y1)\n",
    "\n",
    "error2 = 2*(y2 - yr)\n",
    "error1 = seq[1].backward(error2)\n",
    "error0 = seq[0].backward(error1)\n",
    "\n",
    "seq[0].dW\n",
    "\n",
    "seq[0].update_parameters(0.03)\n",
    "seq[1].update_parameters(0.03)\n",
    "\n",
    "\n",
    "y1 = seq[0].forward(x)\n",
    "y2 = seq[1].forward(y1)\n",
    "\n",
    "error2 = 2*(y2 - yr)\n",
    "error1 = seq[1].backward(error2)\n",
    "error0 = seq[0].backward(error1)\n",
    "\n",
    "seq[0].update_parameters(0.03)\n",
    "seq[1].update_parameters(0.03)\n"
   ]
  },
  {
   "cell_type": "markdown",
   "id": "877fe33b",
   "metadata": {},
   "source": [
    "## Leer el dataset (idx2numpy)"
   ]
  },
  {
   "cell_type": "code",
   "execution_count": 85,
   "id": "d03ea8c3",
   "metadata": {},
   "outputs": [],
   "source": [
    "# Reading Train\n",
    "X_Train = idx2numpy.convert_from_file('./Data/train-images.idx3-ubyte')\n",
    "y_Train = idx2numpy.convert_from_file('./Data/train-labels.idx1-ubyte')\n",
    "\n",
    "\n",
    "# Reading Real\n",
    "X_Test = idx2numpy.convert_from_file('./Data/t10k-images.idx3-ubyte')\n",
    "y_Test = idx2numpy.convert_from_file('./Data/t10k-labels.idx1-ubyte')\n"
   ]
  },
  {
   "cell_type": "markdown",
   "id": "515c8b03",
   "metadata": {},
   "source": [
    "## Dataloader"
   ]
  },
  {
   "cell_type": "code",
   "execution_count": 91,
   "id": "a84f81a7",
   "metadata": {},
   "outputs": [],
   "source": [
    "class Dataloader():\n",
    "    def __init__(self,X,y, batch_size,shuffle = True):\n",
    "        self.bs = batch_size\n",
    "\n",
    "        randomizer = np.arange(len(y)) # np.arange = np.array(range(len(y)))\n",
    "        if shuffle:\n",
    "            np.random.shuffle(randomizer)\n",
    "\n",
    "        self.X = X[randomizer]\n",
    "        self.y = y[randomizer]\n",
    "    \n",
    "    def __len__(self):\n",
    "        return len(self.y)\n",
    "\n",
    "    def __getitem__(self,idx):\n",
    "        return self.X[idx]/255,self.y[idx]\n",
    "    \n",
    "    \n",
    "\n",
    "\n",
    "\n"
   ]
  },
  {
   "cell_type": "markdown",
   "id": "e165bdcd",
   "metadata": {},
   "source": [
    "## One Hot Encoding"
   ]
  },
  {
   "cell_type": "code",
   "execution_count": 97,
   "id": "db75e329",
   "metadata": {},
   "outputs": [
    {
     "name": "stdout",
     "output_type": "stream",
     "text": [
      "[0 0 2 3 2 3 8 1 5 4 0 5 9 0 7]\n"
     ]
    }
   ],
   "source": [
    "test_dt = Dataloader(X_Train,y_Train,100)\n",
    "dt_x,dt_y = test_dt[5:20]\n",
    "print(dt_y)\n",
    "\n",
    "def foo(y,num_classes):\n",
    "    y_one_hot_encoded = np.zeros((len(y), num_classes)) #len(y) == y.shape[0]\n",
    "    y_one_hot_encoded[np.arange(len(y)),y] = 1\n",
    "    print(y_one_hot_encoded)\n",
    "    return y_one_hot_encoded"
   ]
  },
  {
   "cell_type": "markdown",
   "id": "9feaffc4",
   "metadata": {},
   "source": [
    "## Steps & Train Loop"
   ]
  },
  {
   "cell_type": "code",
   "execution_count": 100,
   "id": "a82f2dd9",
   "metadata": {},
   "outputs": [],
   "source": [
    "def train_step(model, X, y,lr, verbose = True):\n",
    "    # La X és un batch de dades\n",
    "    logits = model.forward(X) #ypred\n",
    "    yreal = foo(y)\n",
    "    error = 2 * (logits - yreal)\n",
    "    model.backward(error)\n",
    "    model.update_parameters(learning_rate=lr)\n",
    "    cost = (logits - yreal) ** 2\n",
    "\n",
    "    if verbose == True:\n",
    "         print(f'Funció de cost: {cost}')\n",
    "\n",
    "def train_loop(model, dataloader, learning_rate):\n",
    "        \n",
    "        for i in np.arange(0, len(dataloader), dataloader.bs):\n",
    "            X_batch, y_batch = dataloader[i:i+dataloader.bs]\n",
    "            ypred = model.forward(x_batch)\n",
    "            error = y_pred - y_batch\n",
    "            model.backward(error)\n",
    "            model.update_parameters()"
   ]
  },
  {
   "cell_type": "code",
   "execution_count": null,
   "id": "f0986485",
   "metadata": {},
   "outputs": [],
   "source": [
    "def main():"
   ]
  }
 ],
 "metadata": {
  "kernelspec": {
   "display_name": "iris",
   "language": "python",
   "name": "iris"
  },
  "language_info": {
   "codemirror_mode": {
    "name": "ipython",
    "version": 3
   },
   "file_extension": ".py",
   "mimetype": "text/x-python",
   "name": "python",
   "nbconvert_exporter": "python",
   "pygments_lexer": "ipython3",
   "version": "3.10.12"
  }
 },
 "nbformat": 4,
 "nbformat_minor": 5
}
