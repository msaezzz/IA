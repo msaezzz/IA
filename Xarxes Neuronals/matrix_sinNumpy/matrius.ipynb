{
 "cells": [
  {
   "cell_type": "code",
   "execution_count": 62,
   "metadata": {},
   "outputs": [],
   "source": [
    "import numpy as np\n",
    "import random\n",
    "random.seed(27)\n",
    "class Matrix:\n",
    "    def __init__(self,rows,cols):\n",
    "        self.rows = rows\n",
    "        self.cols = cols\n",
    "\n",
    "    def matrix_init(self):\n",
    "        #C = [[0 for _ in range(self.cols)] for _ in range(self.rows)]\n",
    "        matriz = [[random.randint(0,5) for _ in range(self.cols)] for _ in range(self.rows)]\n",
    "        print(matriz)\n",
    "        return matriz\n",
    "    \n",
    "\n",
    "    def __add__(self, b):\n",
    "        pass\n",
    "\n",
    "    def __mul__(self, b):\n",
    "        total= self.matrix_init()+b\n",
    "        return total\n",
    "\n",
    "    \n"
   ]
  },
  {
   "cell_type": "code",
   "execution_count": 65,
   "metadata": {},
   "outputs": [
    {
     "name": "stdout",
     "output_type": "stream",
     "text": [
      "[[3, 0], [5, 2]]\n"
     ]
    }
   ],
   "source": [
    "a = Matrix(2,3)\n",
    "b = Matrix(2,2)\n",
    "print(a.__add__(b.matrix_init()))"
   ]
  },
  {
   "cell_type": "code",
   "execution_count": 60,
   "metadata": {},
   "outputs": [
    {
     "ename": "AttributeError",
     "evalue": "'Matrix' object has no attribute 'value'",
     "output_type": "error",
     "traceback": [
      "\u001b[0;31m---------------------------------------------------------------------------\u001b[0m",
      "\u001b[0;31mAttributeError\u001b[0m                            Traceback (most recent call last)",
      "Cell \u001b[0;32mIn[60], line 1\u001b[0m\n\u001b[0;32m----> 1\u001b[0m c \u001b[38;5;241m=\u001b[39m \u001b[43ma\u001b[49m\u001b[43m \u001b[49m\u001b[38;5;241;43m+\u001b[39;49m\u001b[43m \u001b[49m\u001b[43mb\u001b[49m\n",
      "Cell \u001b[0;32mIn[58], line 13\u001b[0m, in \u001b[0;36mMatrix.__add__\u001b[0;34m(self, b)\u001b[0m\n\u001b[1;32m     12\u001b[0m \u001b[38;5;28;01mdef\u001b[39;00m \u001b[38;5;21m__add__\u001b[39m(\u001b[38;5;28mself\u001b[39m, b):\n\u001b[0;32m---> 13\u001b[0m     \u001b[38;5;28;01mreturn\u001b[39;00m num(\u001b[38;5;28;43mself\u001b[39;49m\u001b[38;5;241;43m.\u001b[39;49m\u001b[43mvalue\u001b[49m \u001b[38;5;241m+\u001b[39m b\u001b[38;5;241m.\u001b[39mvalue)\n",
      "\u001b[0;31mAttributeError\u001b[0m: 'Matrix' object has no attribute 'value'"
     ]
    }
   ],
   "source": [
    "c = a + b"
   ]
  },
  {
   "cell_type": "code",
   "execution_count": 27,
   "metadata": {},
   "outputs": [
    {
     "data": {
      "text/plain": [
       "__main__.num"
      ]
     },
     "execution_count": 27,
     "metadata": {},
     "output_type": "execute_result"
    }
   ],
   "source": [
    "type(c)"
   ]
  },
  {
   "cell_type": "code",
   "execution_count": 43,
   "metadata": {},
   "outputs": [
    {
     "ename": "AttributeError",
     "evalue": "'list' object has no attribute 'cols'",
     "output_type": "error",
     "traceback": [
      "\u001b[0;31m---------------------------------------------------------------------------\u001b[0m",
      "\u001b[0;31mAttributeError\u001b[0m                            Traceback (most recent call last)",
      "Cell \u001b[0;32mIn[43], line 14\u001b[0m\n\u001b[1;32m     12\u001b[0m                 c[i][j] \u001b[38;5;241m+\u001b[39m\u001b[38;5;241m=\u001b[39m a[i][k]\u001b[38;5;241m*\u001b[39mb[k][j]\n\u001b[1;32m     13\u001b[0m     \u001b[38;5;28;01mreturn\u001b[39;00m c\n\u001b[0;32m---> 14\u001b[0m x\u001b[38;5;241m=\u001b[39m\u001b[43mmult\u001b[49m\u001b[43m(\u001b[49m\u001b[43m)\u001b[49m\n\u001b[1;32m     15\u001b[0m \u001b[38;5;28;01mfor\u001b[39;00m i \u001b[38;5;129;01min\u001b[39;00m x:\n\u001b[1;32m     16\u001b[0m     \u001b[38;5;28mprint\u001b[39m (i)            \n",
      "Cell \u001b[0;32mIn[43], line 6\u001b[0m, in \u001b[0;36mmult\u001b[0;34m(a, b)\u001b[0m\n\u001b[1;32m      1\u001b[0m \u001b[38;5;28;01mdef\u001b[39;00m \u001b[38;5;21mmult\u001b[39m(a\u001b[38;5;241m=\u001b[39m[[\u001b[38;5;241m0\u001b[39m,\u001b[38;5;241m1\u001b[39m]\n\u001b[1;32m      2\u001b[0m             ,[\u001b[38;5;241m2\u001b[39m,\u001b[38;5;241m3\u001b[39m]],\n\u001b[1;32m      3\u001b[0m          b\u001b[38;5;241m=\u001b[39m[[\u001b[38;5;241m0\u001b[39m,\u001b[38;5;241m1\u001b[39m],\n\u001b[1;32m      4\u001b[0m             [\u001b[38;5;241m2\u001b[39m,\u001b[38;5;241m3\u001b[39m]]):\n\u001b[0;32m----> 6\u001b[0m     c \u001b[38;5;241m=\u001b[39m [[\u001b[38;5;241m0\u001b[39m \u001b[38;5;28;01mfor\u001b[39;00m _ \u001b[38;5;129;01min\u001b[39;00m \u001b[38;5;28mrange\u001b[39m(a\u001b[38;5;241m.\u001b[39mrows)]\u001b[38;5;28;01mfor\u001b[39;00m _ \u001b[38;5;129;01min\u001b[39;00m \u001b[38;5;28mrange\u001b[39m(\u001b[43mb\u001b[49m\u001b[38;5;241;43m.\u001b[39;49m\u001b[43mcols\u001b[49m)]\n\u001b[1;32m      7\u001b[0m     \u001b[38;5;28mprint\u001b[39m (c)\n\u001b[1;32m      9\u001b[0m     \u001b[38;5;28;01mfor\u001b[39;00m i \u001b[38;5;129;01min\u001b[39;00m \u001b[38;5;28mrange\u001b[39m(\u001b[38;5;28mlen\u001b[39m(a)):\n",
      "\u001b[0;31mAttributeError\u001b[0m: 'list' object has no attribute 'cols'"
     ]
    }
   ],
   "source": [
    "def mult(a=[[0,1]\n",
    "            ,[2,3]],\n",
    "         b=[[0,1],\n",
    "            [2,3]]):\n",
    "    \n",
    "    c = [[0 for _ in range(a.rows)]for _ in range(b.cols)]\n",
    "    print (c)\n",
    " \n",
    "    for i in range(len(a)):\n",
    "        for j in range(len(b)):\n",
    "            for k in range(len(b)):\n",
    "                c[i][j] += a[i][k]*b[k][j]\n",
    "    return c\n",
    "x=mult()\n",
    "for i in x:\n",
    "    print (i)            "
   ]
  }
 ],
 "metadata": {
  "kernelspec": {
   "display_name": "Python 3",
   "language": "python",
   "name": "python3"
  },
  "language_info": {
   "codemirror_mode": {
    "name": "ipython",
    "version": 3
   },
   "file_extension": ".py",
   "mimetype": "text/x-python",
   "name": "python",
   "nbconvert_exporter": "python",
   "pygments_lexer": "ipython3",
   "version": "3.10.12"
  }
 },
 "nbformat": 4,
 "nbformat_minor": 2
}
