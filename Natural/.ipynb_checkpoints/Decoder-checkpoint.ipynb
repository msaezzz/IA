{
 "cells": [
  {
   "cell_type": "code",
   "execution_count": 1,
   "id": "c4eacd9c-b250-47e6-83da-4bf9ec01d65d",
   "metadata": {},
   "outputs": [
    {
     "name": "stderr",
     "output_type": "stream",
     "text": [
      "/home/iticbcn/Documentos/IA/Natural/natural/lib/python3.10/site-packages/tqdm/auto.py:21: TqdmWarning: IProgress not found. Please update jupyter and ipywidgets. See https://ipywidgets.readthedocs.io/en/stable/user_install.html\n",
      "  from .autonotebook import tqdm as notebook_tqdm\n"
     ]
    }
   ],
   "source": [
    "from transformers import AutoTokenizer\n",
    "import pandas as pd\n",
    "import torch\n",
    "from torch.utils.data import Dataset, DataLoader, random_split\n",
    "from torch import nn\n",
    "import os\n",
    "import numpy as np\n",
    "from transformers import BertForSequenceClassification, AdamW"
   ]
  },
  {
   "cell_type": "code",
   "execution_count": 6,
   "id": "b0ca785d-67c2-48c9-82e9-dc9a94a2e6f2",
   "metadata": {},
   "outputs": [],
   "source": [
    "from transformers import AutoModel\n",
    "from transformers import BertTokenizer, TFBertModel\n",
    "\n",
    "model = AutoModel.from_pretrained(\"google-bert/bert-base-uncased\")"
   ]
  },
  {
   "cell_type": "code",
   "execution_count": 11,
   "id": "64b94fb6-d64e-457a-a07c-20c2102bc12d",
   "metadata": {},
   "outputs": [
    {
     "name": "stdout",
     "output_type": "stream",
     "text": [
      "[101, 7570, 2721, 1037, 102]\n"
     ]
    }
   ],
   "source": [
    "tokenizer = BertTokenizer.from_pretrained('bert-base-uncased')\n",
    "text = \"HOLA  a\"\n",
    "token = tokenizer.encode(text)\n",
    "print(token)"
   ]
  },
  {
   "cell_type": "code",
   "execution_count": 17,
   "id": "2c027217-e45f-4026-90f1-35bf07e539bb",
   "metadata": {},
   "outputs": [],
   "source": [
    "class IMDBDataset(Dataset):\n",
    "    def __init__(self, csv, tokenizer):\n",
    "        df = pd.read_csv(csv)\n",
    "        df['sentiment'] = np.where(df['sentiment'] == 'positive', 1, 0)  # Binary classification\n",
    "        self.x = df[\"review\"].values\n",
    "        self.y = df[\"sentiment\"].values\n",
    "        self.tokenizer = tokenizer\n",
    "\n",
    "    def __len__(self):\n",
    "        return len(self.y)\n",
    "\n",
    "    def __getitem__(self, idx):\n",
    "        sentence = self.x[idx]\n",
    "        tokens = self.tokenizer(sentence, max_length=512, truncation=True, padding=\"max_length\", return_tensors=\"pt\")\n",
    "        \n",
    "        input_ids = tokens[\"input_ids\"].squeeze(0)  # Remove batch dim\n",
    "        attention_mask = tokens[\"attention_mask\"].squeeze(0)\n",
    "\n",
    "        label = torch.tensor(self.y[idx], dtype=torch.long)  # CrossEntropyLoss expects long labels\n",
    "        \n",
    "        return input_ids, attention_mask, label"
   ]
  },
  {
   "cell_type": "code",
   "execution_count": 19,
   "id": "a4a5819e-6957-48d3-8e20-41f966cbd1ff",
   "metadata": {},
   "outputs": [],
   "source": [
    "def create_train_test_datasets(filepath, tokenizer, split_ratio=0.8, batch_size=10):\n",
    "    dataset = imbd_dataset(filepath, tokenizer)\n",
    "    train_size = int(split_ratio * len(dataset))\n",
    "    test_size = len(dataset) - train_size\n",
    "    train_data, test_data = random_split(dataset, [train_size, test_size])\n",
    "\n",
    "    train_dataloader = DataLoader(training_data, batch_size=batch_size, shuffle=True)\n",
    "    test_dataloader = DataLoader(test_data, batch_size=batch_size, shuffle=False)\n",
    "\n",
    "    return train_dataloader, test_dataloader\n"
   ]
  },
  {
   "cell_type": "code",
   "execution_count": null,
   "id": "3d5de52e-37f6-440b-b701-f247f3a23202",
   "metadata": {},
   "outputs": [],
   "source": []
  }
 ],
 "metadata": {
  "kernelspec": {
   "display_name": "NLenguage",
   "language": "python",
   "name": "natural"
  },
  "language_info": {
   "codemirror_mode": {
    "name": "ipython",
    "version": 3
   },
   "file_extension": ".py",
   "mimetype": "text/x-python",
   "name": "python",
   "nbconvert_exporter": "python",
   "pygments_lexer": "ipython3",
   "version": "3.10.12"
  }
 },
 "nbformat": 4,
 "nbformat_minor": 5
}
