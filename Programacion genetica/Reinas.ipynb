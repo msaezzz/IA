{
  "cells": [
    {
      "cell_type": "markdown",
      "metadata": {
        "id": "j6t-D9V6G10u"
      },
      "source": [
        "# Las 8 reinas"
      ]
    },
    {
      "cell_type": "markdown",
      "metadata": {
        "id": "ocjiOUx4G90i"
      },
      "source": [
        "## Imports & Variables"
      ]
    },
    {
      "cell_type": "code",
      "execution_count": 2,
      "metadata": {
        "id": "Z1OWLg5RbYcc"
      },
      "outputs": [],
      "source": [
        "# IMPORT\n",
        "import numpy as np\n",
        "import random as rnd\n",
        "# rnd.seed(0)\n",
        "# VARIABLES\n",
        "#array_zeroes = np.zeros((4,4))"
      ]
    },
    {
      "cell_type": "markdown",
      "metadata": {
        "id": "B8FDmhgZGrZL"
      },
      "source": [
        "## POPULATION"
      ]
    },
    {
      "cell_type": "code",
      "execution_count": 3,
      "metadata": {
        "id": "4z0WrbWRHHJT"
      },
      "outputs": [],
      "source": [
        "# INDIVIDU\n",
        "def agent(board):\n",
        "  gen = [i for i in range(1,board+1)]\n",
        "  rnd.shuffle(gen)\n",
        "  return gen\n",
        "\n",
        "# POBLACIÓ\n",
        "def init_population(initial_population,board):\n",
        "  population = []\n",
        "  for x in range(initial_population):\n",
        "    population.append(agent(board))\n",
        "  return population\n"
      ]
    },
    {
      "cell_type": "markdown",
      "metadata": {
        "id": "vQPFwGsOHSg_"
      },
      "source": [
        "## CROSSOVER"
      ]
    },
    {
      "cell_type": "code",
      "execution_count": 4,
      "metadata": {
        "id": "5fl15bxxHWx1"
      },
      "outputs": [],
      "source": [
        "def crossover(population):\n",
        "  x = 0\n",
        "  y = 1\n",
        "  population = list(population)\n",
        "  rnd.shuffle(population)\n",
        "  cross = []\n",
        "  while y < len(population):\n",
        "    son1 = [population[x][0],population[x][1]]\n",
        "    son2 = [population[y][0],population[y][1]]\n",
        "    for g in population[y]:\n",
        "      if g not in son1:\n",
        "        son1.append(g)\n",
        "    for g in population[x]:\n",
        "      if g not in son2:\n",
        "        son2.append(g)\n",
        "    cross.append(son1)\n",
        "    cross.append(son2)\n",
        "    x += 2\n",
        "    y += 2\n",
        "  cross += population\n",
        "  return cross"
      ]
    },
    {
      "cell_type": "markdown",
      "metadata": {
        "id": "qKfHpdWGHhHr"
      },
      "source": [
        "## MUTATION"
      ]
    },
    {
      "cell_type": "code",
      "execution_count": 5,
      "metadata": {
        "id": "wEXxS2UlHlmj"
      },
      "outputs": [],
      "source": [
        "def mutation(poblacion,percent):\n",
        "  x = rnd.randint(0,100)\n",
        "  mutado = poblacion[len(poblacion)//2:]\n",
        "  if x < percent:\n",
        "    for x in poblacion[:len(poblacion)//2]:\n",
        "      x[0],x[2]=x[2],x[0]\n",
        "      mutado.append(x)\n",
        "    return mutado\n",
        "  else:\n",
        "    return poblacion"
      ]
    },
    {
      "cell_type": "markdown",
      "metadata": {
        "id": "x8ivn1eCHxDH"
      },
      "source": [
        "## FITNESS & NATURAL SELECTION"
      ]
    },
    {
      "cell_type": "code",
      "execution_count": 6,
      "metadata": {
        "colab": {
          "base_uri": "https://localhost:8080/"
        },
        "id": "4gUrNUtUIGZT",
        "outputId": "452b707a-3908-42c3-f2b4-b8934da8bb49"
      },
      "outputs": [
        {
          "ename": "TypeError",
          "evalue": "mutation() missing 1 required positional argument: 'percent'",
          "output_type": "error",
          "traceback": [
            "\u001b[0;31m---------------------------------------------------------------------------\u001b[0m",
            "\u001b[0;31mTypeError\u001b[0m                                 Traceback (most recent call last)",
            "Cell \u001b[0;32mIn[6], line 89\u001b[0m\n\u001b[1;32m     87\u001b[0m population_cant \u001b[38;5;241m=\u001b[39m \u001b[38;5;241m100\u001b[39m\n\u001b[1;32m     88\u001b[0m percent \u001b[38;5;241m=\u001b[39m \u001b[38;5;241m20\u001b[39m\n\u001b[0;32m---> 89\u001b[0m agente \u001b[38;5;241m=\u001b[39m \u001b[43mmain\u001b[49m\u001b[43m(\u001b[49m\u001b[43mdimension\u001b[49m\u001b[43m,\u001b[49m\u001b[43mpopulation_cant\u001b[49m\u001b[43m,\u001b[49m\u001b[43mpercent\u001b[49m\u001b[43m)\u001b[49m\n",
            "Cell \u001b[0;32mIn[6], line 74\u001b[0m, in \u001b[0;36mmain\u001b[0;34m(board_size, pop_size, percent)\u001b[0m\n\u001b[1;32m     71\u001b[0m generation \u001b[38;5;241m=\u001b[39m \u001b[38;5;241m0\u001b[39m\n\u001b[1;32m     72\u001b[0m \u001b[38;5;28;01mwhile\u001b[39;00m puntos \u001b[38;5;241m>\u001b[39m \u001b[38;5;241m0\u001b[39m:\n\u001b[1;32m     73\u001b[0m   \u001b[38;5;66;03m#population, puntos = fitness(mutation(crossover(population)))\u001b[39;00m\n\u001b[0;32m---> 74\u001b[0m   population,puntos \u001b[38;5;241m=\u001b[39m seleccion(fitness(\u001b[43mmutation\u001b[49m\u001b[43m(\u001b[49m\u001b[43mcrossover\u001b[49m\u001b[43m(\u001b[49m\u001b[43mpopulation\u001b[49m\u001b[43m)\u001b[49m\u001b[43m)\u001b[49m,percent),pop_size)\n\u001b[1;32m     75\u001b[0m   \u001b[38;5;66;03m#print(f'count: {count}-----> puntos{puntos}')\u001b[39;00m\n\u001b[1;32m     77\u001b[0m   count \u001b[38;5;241m+\u001b[39m\u001b[38;5;241m=\u001b[39m\u001b[38;5;241m1\u001b[39m\n",
            "\u001b[0;31mTypeError\u001b[0m: mutation() missing 1 required positional argument: 'percent'"
          ]
        }
      ],
      "source": [
        "# FITNESS INDIVIDUAL\n",
        "# def fitness_individu(gen):\n",
        "#   fit = 0\n",
        "#   indexqueen1 = 0\n",
        "#   for yq1 in gen:\n",
        "#     indexqueen2 = 0\n",
        "#     for yq2 in gen:\n",
        "#       if abs(yq2-yq1) == abs(indexqueen2-indexqueen1):\n",
        "#         fit += 1\n",
        "#       indexqueen2 += 1\n",
        "#     indexqueen1 += 1\n",
        "#   return fit-len(gen)  # Resta la longitud del tablero porque como suma una colision por misma posición, no contarlas\n",
        "\n",
        "def fitness_individu(gen):\n",
        "    fit = 0\n",
        "    n = len(gen)\n",
        "    for i in range(n):\n",
        "        for j in range(i + 1, n):  # Solo comparar con reinas que están después de la actual\n",
        "            if abs(gen[j] - gen[i]) == abs(j - i):  # Comparar si están en la misma diagonal\n",
        "                fit += 1\n",
        "    return fit\n",
        "# FITNESS COL·LECTIU\n",
        "def fitness(population):\n",
        "  lista_fitness = []\n",
        "  for gen in population:\n",
        "    fit = fitness_individu(gen)\n",
        "    lista_fitness.append(fit)\n",
        "  lista_ordenada = sorted(zip(population,lista_fitness), key = lambda x:x[1])\n",
        "  #seleccion, puntos = zip(*lista_ordenada)\n",
        "  #valor = 10\n",
        "  #valor = len(population)//2\n",
        "  #return seleccion[:valor],puntos[0]\n",
        "  return lista_ordenada\n",
        "\n",
        "\n",
        "INITIAL_POPULATION = 50\n",
        "\n",
        "# SELECCIÓ NATURAL\n",
        "def seleccion(fitness_result, pop_size):\n",
        "  seleccion, puntos = zip(*fitness_result)\n",
        "  seleccion_size = len(seleccion)\n",
        "  seleccion = list(seleccion)\n",
        "\n",
        "  if seleccion_size > pop_size:\n",
        "    seleccion_size = pop_size\n",
        "\n",
        "\n",
        "  better = seleccion[:seleccion_size//2]\n",
        "\n",
        "  worst = seleccion[-int(seleccion_size * 0.2):]\n",
        "  calc_mid = seleccion[int(len(seleccion)//2):int(len(seleccion)//2)+int(seleccion_size * 0.2):]\n",
        "  inmigracion = int(seleccion_size*0.1)\n",
        "  inmi = init_population(inmigracion,len(seleccion[0]))\n",
        "  #print(f'Longitud: {len(better)+len(worst)+len(calc_mid)+len(inmi)}')\n",
        "\n",
        "  list_final = better+worst+calc_mid+inmi\n",
        "  #print(f'FINAL: {len(list_final)}')\n",
        "\n",
        "  list_final_calc = fitness(list_final)\n",
        "  #print(f'Lista final: {len(list_final)}')\n",
        "  seleccion, puntos = zip(*list_final_calc)\n",
        "\n",
        "  return seleccion, puntos[0]\n",
        "\n",
        "\n",
        "def main(board_size, pop_size, percent):\n",
        "\n",
        "  population = init_population(pop_size,board_size)\n",
        "  puntos = 1\n",
        "  count = 0\n",
        "  generation = 0\n",
        "  while puntos > 0:\n",
        "    #population, puntos = fitness(mutation(crossover(population)))\n",
        "    population,puntos = seleccion(fitness(mutation(crossover(population)),percent),pop_size)\n",
        "    #print(f'count: {count}-----> puntos{puntos}')\n",
        "\n",
        "    count +=1\n",
        "    generation +=1\n",
        "    if count == 50:\n",
        "      print(f'GEN {generation}: {population[0]} -----> COLISIONES {puntos}')\n",
        "      #print(f'PUNTOS: {puntos}')\n",
        "      count = 0\n",
        "  print(f'GEN PERFECTO: {population[0]}')\n",
        "  return population[0]\n",
        "\n",
        "dimension = 100\n",
        "population_cant = 100\n",
        "percent = 20\n",
        "agente = main(dimension,population_cant,percent)"
      ]
    },
    {
      "cell_type": "code",
      "execution_count": null,
      "metadata": {
        "id": "ElWZQOOtWwCZ"
      },
      "outputs": [],
      "source": []
    },
    {
      "cell_type": "markdown",
      "metadata": {
        "id": "1dWUgTK8IJxR"
      },
      "source": [
        "## MAIN"
      ]
    },
    {
      "cell_type": "code",
      "execution_count": null,
      "metadata": {
        "colab": {
          "base_uri": "https://localhost:8080/",
          "height": 238
        },
        "id": "pY5B6zTmTXhD",
        "outputId": "d26fc901-6294-41d5-d84b-b49887f65a0e"
      },
      "outputs": [],
      "source": [
        "# if __name__ == '__main__':\n",
        "#   board = 50\n",
        "#   initial_population = 50\n",
        "#   population = init_population(initial_population,board)\n",
        "#   puntos = 1\n",
        "#   count = 0\n",
        "#   generation = 0\n",
        "#   while puntos > 0:\n",
        "#     print(generation)\n",
        "#     #population, puntos = fitness(mutation(crossover(population)))\n",
        "#     population,puntos = seleccion(fitness(mutation(crossover(population))))\n",
        "#     count +=1\n",
        "#     generation +=1\n",
        "#     if count == 50:\n",
        "#       print(f'GEN: {generation} -----> COLISIONES {puntos}')\n",
        "#       #print(f'PUNTOS: {puntos}')\n",
        "#       count = 0\n",
        "#   print(f'GEN PERFECTO: {population[0]}')\n",
        "\n"
      ]
    }
  ],
  "metadata": {
    "colab": {
      "provenance": []
    },
    "kernelspec": {
      "display_name": "Python 3",
      "name": "python3"
    },
    "language_info": {
      "codemirror_mode": {
        "name": "ipython",
        "version": 3
      },
      "file_extension": ".py",
      "mimetype": "text/x-python",
      "name": "python",
      "nbconvert_exporter": "python",
      "pygments_lexer": "ipython3",
      "version": "3.10.12"
    }
  },
  "nbformat": 4,
  "nbformat_minor": 0
}
