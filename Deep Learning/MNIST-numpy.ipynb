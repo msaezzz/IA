{
 "cells": [
  {
   "cell_type": "code",
   "execution_count": null,
   "id": "e2905d22-1eb7-442e-9233-843226e4ee2f",
   "metadata": {},
   "outputs": [],
   "source": []
  }
 ],
 "metadata": {
  "kernelspec": {
   "display_name": "",
   "name": ""
  },
  "language_info": {
   "name": ""
  }
 },
 "nbformat": 4,
 "nbformat_minor": 5
}
