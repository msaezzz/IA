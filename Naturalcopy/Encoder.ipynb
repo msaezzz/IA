{
 "cells": [
  {
   "cell_type": "code",
   "execution_count": 15,
   "id": "a7baff78-d9df-4532-b791-94f44d9f5dde",
   "metadata": {},
   "outputs": [],
   "source": [
    "from transformers import AutoTokenizer\n",
    "import pandas as pd\n",
    "import torch\n",
    "from torch.utils.data import Dataset, DataLoader, random_split\n",
    "from torch import nn\n",
    "import os\n",
    "import numpy as npz\n",
    "from transformers import BertForSequenceClassification, AdamW\n",
    "import matplotlib.pyplot as plt\n",
    "from sklearn.metrics import ConfusionMatrixDisplay\n"
   ]
  },
  {
   "cell_type": "code",
   "execution_count": 16,
   "id": "0c3304d5-04f5-42b9-80c7-c34a53d687bf",
   "metadata": {},
   "outputs": [],
   "source": [
    "from transformers import AutoModel\n",
    "\n",
    "model = AutoModel.from_pretrained(\"google-bert/bert-base-uncased\")"
   ]
  },
  {
   "cell_type": "code",
   "execution_count": 17,
   "id": "ea07f86f-6258-4347-9e1c-6a265d8fe8a0",
   "metadata": {},
   "outputs": [
    {
     "name": "stdout",
     "output_type": "stream",
     "text": [
      "[101, 7570, 2721, 8649, 6806, 2389, 27571, 2389, 102]\n"
     ]
    }
   ],
   "source": [
    "tokenizer = AutoTokenizer.from_pretrained(\"bert-base-uncased\")\n",
    "text = \"HOLAOGHOAL GOOAL\"\n",
    "token = tokenizer.encode(text)\n",
    "print(token)"
   ]
  },
  {
   "cell_type": "code",
   "execution_count": 18,
   "id": "16659494-5b68-4db0-b997-a8193e9677c3",
   "metadata": {},
   "outputs": [],
   "source": [
    "\n",
    "df = pd.read_csv('./IMDB Dataset.csv')\n",
    "\n"
   ]
  },
  {
   "cell_type": "code",
   "execution_count": 19,
   "id": "76b44ad9-1eaf-4e27-97db-c9f8240ad320",
   "metadata": {},
   "outputs": [],
   "source": [
    "\n",
    "class imbd_dataset(Dataset):\n",
    "    def __init__(self, csv, tokenizer):\n",
    "        df = pd.read_csv(csv)\n",
    "        df['sentiment'] = np.where(df['sentiment'] == 'positive', 1 , 0)\n",
    "        self.x = df[\"review\"].values\n",
    "        self.y = df[\"sentiment\"].values\n",
    "        self.tokenizer = tokenizer\n",
    "        \n",
    "    def __len__(self):\n",
    "        return len(self.y)\n",
    "\n",
    "    def __getitem__(self, idx):\n",
    "        sentence = self.x[idx]\n",
    "        tokens = torch.tensor(self.tokenizer.encode(sentence, max_length=512, truncation=True, padding=\"max_length\"))\n",
    "        \n",
    "        return tokens, self.y[idx]\n",
    "\n"
   ]
  },
  {
   "cell_type": "code",
   "execution_count": 20,
   "id": "cc492928-2052-45ee-a67d-eb56b5907229",
   "metadata": {},
   "outputs": [],
   "source": [
    "def create_train_test_datasets(filepath, tokenizer, split_ratio=0.8):\n",
    "    dataset = imbd_dataset(filepath, tokenizer)\n",
    "    train_size = int(split_ratio * len(dataset))\n",
    "    test_size = len(dataset) - train_size\n",
    "    train_data, test_data = random_split(dataset, [train_size, test_size])\n",
    "\n",
    "    return train_data, test_data\n",
    "def create_dataloader(training_data, test_data, batch_size):\n",
    "    train_dataloader = DataLoader(training_data, batch_size=batch_size, shuffle=True)\n",
    "    test_dataloader = DataLoader(test_data, batch_size=batch_size, shuffle=False)\n",
    "\n",
    "    return train_dataloader, test_dataloader"
   ]
  },
  {
   "cell_type": "code",
   "execution_count": 21,
   "id": "fab447bb-8a59-496b-ac91-76e8a1e96d9e",
   "metadata": {},
   "outputs": [],
   "source": [
    "def select_device():\n",
    "    device = (\n",
    "        \"cuda\"\n",
    "        if torch.cuda.is_available()\n",
    "        else \"mps\"\n",
    "        if torch.backends.mps.is_available()\n",
    "        else \"cpu\"\n",
    "    )\n",
    "    print(device)\n",
    "    return device"
   ]
  },
  {
   "cell_type": "code",
   "execution_count": 22,
   "id": "e4cf363b-defa-4b6e-b269-6e050540b0ac",
   "metadata": {},
   "outputs": [],
   "source": [
    "class NeuralNetwork(nn.Module):\n",
    "    def __init__(self, vocab_size, embed_size=512, encoders=2, head=4, num_classes=2):\n",
    "        super(NeuralNetwork, self).__init__()\n",
    "        self.embed = nn.Embedding(vocab_size, embed_size)\n",
    "        self.encoder = nn.TransformerEncoder(nn.TransformerEncoderLayer(d_model=embed_size, nhead=head, batch_first=True,dropout=0.2), num_layers=encoders)\n",
    "        \n",
    "        self.final_seq = nn.Sequential(\n",
    "            nn.ReLU(),\n",
    "            nn.Linear(embed_size*embed_size, num_classes)\n",
    "        )\n",
    "\n",
    "    def forward(self, x):\n",
    "        emb = self.embed(x)\n",
    "        out_encod=self.encoder(emb)\n",
    "        out_encod=out_encod.reshape(out_encod.shape[0],out_encod.shape[1]*out_encod.shape[2])\n",
    "        logits = self.final_seq(out_encod)\n",
    "        return logits"
   ]
  },
  {
   "cell_type": "code",
   "execution_count": 23,
   "id": "15dc859e-2a82-4ce1-9257-c437541a48e1",
   "metadata": {},
   "outputs": [],
   "source": [
    "def load_model(weights, device):\n",
    "    model = NeuralNetwork(tokenizer.vocab_size).to(device)\n",
    "    if os.path.exists(weights):\n",
    "        try:\n",
    "            model.load_state_dict(torch.load(weights), strict=False)\n",
    "        except Exception as e:\n",
    "            print(f\"None weights were loaded: {e}\")\n",
    "    return model"
   ]
  },
  {
   "cell_type": "code",
   "execution_count": 25,
   "id": "4100622b-b775-4b7c-a639-3d81e5dd9083",
   "metadata": {},
   "outputs": [],
   "source": [
    "def train_loop(dataloader, model, loss_fn, optimizer, device):\n",
    "    size = len(dataloader.dataset)\n",
    "    # Set the model to training mode - important for batch normalization and dropout layers\n",
    "    # Unnecessary in this situation but added for best practices\n",
    "    model.train()\n",
    "    for batch, (X, y) in enumerate(dataloader):\n",
    "        X, y = X.to(device), y.to(device)\n",
    "        # Compute prediction and loss\n",
    "        pred = model(X)\n",
    "        loss = loss_fn(pred, y)\n",
    "\n",
    "        # Backpropagation\n",
    "        loss.backward()\n",
    "        optimizer.step()\n",
    "        optimizer.zero_grad()\n",
    "\n",
    "        if batch % 25 == 0:\n",
    "            loss, current = loss.item(), batch * batch_size + len(X)\n",
    "            print(f\"loss: {loss:>7f}  [{current:>5d}/{size:>5d}]\")\n",
    "\n",
    "\n",
    "def test_loop(dataloader, model, loss_fn, device):\n",
    "    global best_weights, best_correct\n",
    "    # Set the model to evaluation mode - important for batch normalization and dropout layers\n",
    "    # Unnecessary in this situation but added for best practices\n",
    "    model.eval()\n",
    "    size = len(dataloader.dataset)\n",
    "    num_batches = len(dataloader)\n",
    "    test_loss, correct = 0, 0\n",
    "\n",
    "    all_preds=[]\n",
    "    all_labels=[]\n",
    "    \n",
    "    # Evaluating the model with torch.no_grad() ensures that no gradients are computed during test mode\n",
    "    # also serves to reduce unnecessary gradient computations and memory usage for tensors with requires_grad=True\n",
    "    with torch.no_grad():\n",
    "        for X, y in dataloader:\n",
    "            X, y = X.to(device), y.to(device)\n",
    "            pred = model(X)\n",
    "            test_loss += loss_fn(pred, y).item()\n",
    "            correct += (pred.argmax(1) == y).type(torch.float).sum().item()\n",
    "            all_preds.extend(pred.argmax(1).cpu().numpy())\n",
    "            all_labels.extend(y.cpu().numpy())\n",
    "    \n",
    "    test_loss /= num_batches\n",
    "    correct /= size\n",
    "\n",
    "    print(f\"Test Error: \\n Accuracy: {(100*correct):>0.1f}%, Avg loss: {test_loss:>8f} \\n\")\n",
    "\n",
    "    ConfusionMatrixDisplay.from_predictions(all_labels, all_preds)\n",
    "    plt.show()\n",
    "    \n",
    "    if best_correct < correct:\n",
    "        best_correct = correct\n",
    "        best_weights = model.state_dict()"
   ]
  },
  {
   "cell_type": "code",
   "execution_count": 27,
   "id": "af6a8f3b-5b34-4fb0-acd4-b5f72b78b1a1",
   "metadata": {},
   "outputs": [
    {
     "name": "stderr",
     "output_type": "stream",
     "text": [
      "/tmp/ipykernel_6304/2143843048.py:5: FutureWarning: You are using `torch.load` with `weights_only=False` (the current default value), which uses the default pickle module implicitly. It is possible to construct malicious pickle data which will execute arbitrary code during unpickling (See https://github.com/pytorch/pytorch/blob/main/SECURITY.md#untrusted-models for more details). In a future release, the default value for `weights_only` will be flipped to `True`. This limits the functions that could be executed during unpickling. Arbitrary objects will no longer be allowed to be loaded via this mode unless they are explicitly allowlisted by the user via `torch.serialization.add_safe_globals`. We recommend you start setting `weights_only=True` for any use case where you don't have full control of the loaded file. Please open an issue on GitHub for any issues related to this experimental feature.\n",
      "  model.load_state_dict(torch.load(weights), strict=False)\n"
     ]
    },
    {
     "name": "stdout",
     "output_type": "stream",
     "text": [
      "cuda\n"
     ]
    },
    {
     "name": "stdin",
     "output_type": "stream",
     "text": [
      "Do you want to train? Yes(y), No(enter):  \n"
     ]
    },
    {
     "name": "stdout",
     "output_type": "stream",
     "text": [
      "Test Error: \n",
      " Accuracy: 96.5%, Avg loss: 0.118260 \n",
      "\n"
     ]
    },
    {
     "data": {
      "image/png": "[encoded data removed]",
      "text/plain": [
       "<Figure size 640x480 with 2 Axes>"
      ]
     },
     "metadata": {},
     "output_type": "display_data"
    }
   ],
   "source": [
    "\n",
    "\n",
    "\n",
    "def __main__(file_path, learning_rate, batch_size, epochs):\n",
    "    loss_fn = nn.CrossEntropyLoss()\n",
    "    device = select_device()\n",
    "    model = load_model('model_weights.pth',device)\n",
    "    #model = load_model('model_weights.pth', device)\n",
    "    train_on = input(\"Do you want to train? Yes(y), No(enter): \")\n",
    "    if train_on:\n",
    "        training_data, test_data = create_train_test_datasets(file_path, tokenizer)\n",
    "        train_dataloader, test_dataloader = create_dataloader(training_data, test_data, batch_size)\n",
    "        optimizer = torch.optim.Adam(model.parameters(), lr=learning_rate)\n",
    "        next_train = True\n",
    "        while next_train:\n",
    "            for t in range(epochs):\n",
    "                print(f\"Epoch {t+1}\\n-------------------------------\")\n",
    "                train_loop(train_dataloader, model, loss_fn, optimizer, device)\n",
    "                test_loop(test_dataloader, model, loss_fn, device)\n",
    "            print(\"Done! Saving process...\")\n",
    "            torch.save(model.state_dict(), 'model_weights.pth')\n",
    "            print(f\"Best Accuracy: {(100*best_correct):>0.1f}% Using Learning Rate: {learning_rate}\")\n",
    "            stop_train = input(\"Should we continue training? No(Any) Yes(Enter) -> \")\n",
    "            if stop_train:\n",
    "                next_train = False\n",
    "            else:\n",
    "                change_lr = input(\"Change the learning rate? Yes(Any) No(Enter) -> \")\n",
    "                if change_lr:\n",
    "                    try:\n",
    "                        learning_rate = float(input(\"New learning rate: \"))\n",
    "                    except:\n",
    "                        print(\"Ignoring new learning rate\")\n",
    "                change_epochs = input(f\"Change the number of epochs ({epochs})? Yes(Any) No(Enter) -> \")\n",
    "                if change_epochs:\n",
    "                    try:\n",
    "                        epochs = int(input(\"New number of epochs: \"))\n",
    "                    except:\n",
    "                        print(\"Ignoring new number of epochs\")\n",
    "    else:\n",
    "        training_data, test_data = create_train_test_datasets(file_path, tokenizer)\n",
    "        _, test_dataloader = create_dataloader(training_data, test_data, batch_size)\n",
    "        test_loop(test_dataloader, model, loss_fn, device)\n",
    "\n",
    "if __name__ == '__main__':\n",
    "    tokenizer = AutoTokenizer.from_pretrained('bert-base-uncased')\n",
    "    best_correct = 0\n",
    "    best_weights = None\n",
    "    file_path = 'IMDB Dataset.csv'\n",
    "    learning_rate = 0.00001\n",
    "    batch_size = 100\n",
    "    epochs = 10\n",
    "    __main__(file_path, learning_rate, batch_size, epochs)"
   ]
  },
  {
   "cell_type": "code",
   "execution_count": null,
   "id": "f36a9448-a90e-41c5-bfd6-02258d71dacf",
   "metadata": {},
   "outputs": [],
   "source": []
  }
 ],
 "metadata": {
  "kernelspec": {
   "display_name": "NLenguage",
   "language": "python",
   "name": "natural"
  },
  "language_info": {
   "codemirror_mode": {
    "name": "ipython",
    "version": 3
   },
   "file_extension": ".py",
   "mimetype": "text/x-python",
   "name": "python",
   "nbconvert_exporter": "python",
   "pygments_lexer": "ipython3",
   "version": "3.10.12"
  }
 },
 "nbformat": 4,
 "nbformat_minor": 5
}
